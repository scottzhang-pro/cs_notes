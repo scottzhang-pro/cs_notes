{
 "cells": [
  {
   "cell_type": "markdown",
   "metadata": {},
   "source": [
    "### 常用函数"
   ]
  },
  {
   "cell_type": "code",
   "execution_count": null,
   "metadata": {},
   "outputs": [],
   "source": [
    "import pandas as pd\n",
    "import numpy as np\n",
    "\n",
    "# 返回 0, 10之间的 5 个数，5 个数之间的距离为均匀的\n",
    "np.linspace(0, 10, 5)"
   ]
  },
  {
   "cell_type": "markdown",
   "metadata": {},
   "source": [
    "### 绘制多个子图\n",
    "\n",
    "- 共享坐标轴（Axes）的多个子图 (Sub-Figure)\n",
    "- 多个坐标轴的多个子图"
   ]
  },
  {
   "cell_type": "code",
   "execution_count": null,
   "metadata": {},
   "outputs": [],
   "source": [
    "# 生成数据\n",
    "from datetime import datetime\n",
    "t = pd.date_range(start=\"2021/01\", end=\"2021/12\", freq='M')\n",
    "temperature = [1, 3, 6, 4, 2.1, 3.3, 5, 8, 10, 11, 7]\n",
    "dewpoint = list(reversed(temperature))"
   ]
  },
  {
   "cell_type": "code",
   "execution_count": null,
   "metadata": {},
   "outputs": [],
   "source": [
    "# 共享坐标轴\n",
    "import matplotlib.pyplot as plt\n",
    "\n",
    "plt.plot(t, temperature, 'red')\n",
    "plt.plot(t, dewpoint, 'blue')\n",
    "\n",
    "plt.xlabel('Date')\n",
    "plt.title('Temperature & Dew Point')\n",
    "\n",
    "plt.show()"
   ]
  },
  {
   "cell_type": "code",
   "execution_count": null,
   "metadata": {},
   "outputs": [],
   "source": [
    "# 一套坐标轴，多个子图\n",
    "\n",
    "plt.plot(t, temperature, 'red')\n",
    "plt.xlabel('Date')\n",
    "plt.title('Temperature')\n",
    "\n",
    "plt.axes([0.525,0.05,0.425,0.9])\n",
    "plt.plot(t, temperature, 'blue')\n",
    "plt.xlabel('Date')\n",
    "plt.title('Dew Point')\n",
    "\n",
    "plt.show()"
   ]
  }
 ],
 "metadata": {
  "interpreter": {
   "hash": "476253e59e65943f63347f07b9cde9e6998ced5a0f745ea85ba02156ab78e294"
  },
  "kernelspec": {
   "display_name": "Python 3.9.7 ('dev')",
   "language": "python",
   "name": "python3"
  },
  "language_info": {
   "codemirror_mode": {
    "name": "ipython",
    "version": 3
   },
   "file_extension": ".py",
   "mimetype": "text/x-python",
   "name": "python",
   "nbconvert_exporter": "python",
   "pygments_lexer": "ipython3",
   "version": "3.9.7"
  },
  "orig_nbformat": 4
 },
 "nbformat": 4,
 "nbformat_minor": 2
}
