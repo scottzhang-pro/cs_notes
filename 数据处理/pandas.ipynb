{
 "cells": [
  {
   "cell_type": "code",
   "execution_count": null,
   "metadata": {},
   "outputs": [],
   "source": [
    "import pandas as pd"
   ]
  },
  {
   "cell_type": "code",
   "execution_count": null,
   "metadata": {},
   "outputs": [],
   "source": [
    "df = pd.DataFrame.from_dict({\n",
    "    'month': ['Jan', 'Feb', 'Mar', 'Apr', 'May', 'Jun'],\n",
    "    'eggs': [33, 22, 13, 28, 43, 55],\n",
    "    'salt': [12, 32,  9,  3,  23,  0], \n",
    "    'spam': [17, 31, 72, 20, 52, 55]\n",
    "})\n",
    "df.set_index('month', inplace=True)\n",
    "df"
   ]
  },
  {
   "cell_type": "markdown",
   "metadata": {},
   "source": [
    "# 基础"
   ]
  },
  {
   "cell_type": "markdown",
   "metadata": {},
   "source": [
    "### Indexing value"
   ]
  },
  {
   "cell_type": "code",
   "execution_count": null,
   "metadata": {},
   "outputs": [],
   "source": [
    "# 使用中括号\n",
    "df[\"eggs\"]['May']\n",
    "\n",
    "# 使用列名\n",
    "df.eggs['May']\n",
    "\n",
    "# 使用 loc\n",
    "df.loc['May', 'eggs']\n",
    "df.loc['May']['eggs']\n",
    "\n",
    "# 使用 iloc\n",
    "df.iloc[4, 0]"
   ]
  },
  {
   "cell_type": "markdown",
   "metadata": {},
   "source": [
    "### Slicing DataFrames"
   ]
  },
  {
   "cell_type": "code",
   "execution_count": null,
   "metadata": {},
   "outputs": [],
   "source": [
    "# eggs 列中的某些值\n",
    "df['eggs'][1:3]\n",
    "\n",
    "# eggs 列中的某个值\n",
    "df['eggs'][1]\n",
    "\n",
    "# 某些列中的所有行\n",
    "df.loc[:, 'eggs':'salt']\n",
    "\n",
    "# 某些行中所有列\n",
    "df.loc['Jan':'Feb', :]\n",
    "\n",
    "# 某些行中某些列\n",
    "df.loc['Jan':'Mar', 'eggs':'salt']\n",
    "df.loc['Jan':'Mar', ['eggs', 'salt']]  # 使用列表删选行\n",
    "\n",
    "# 使用 iloc 选择\n",
    "df.iloc[2:5, 1:]\n",
    "\n",
    "# df['eggs']  -> pandas.core.series.Series\n",
    "# df[['eggs]] -> pandas.core.frame.DataFrame\n",
    "pass"
   ]
  },
  {
   "cell_type": "markdown",
   "metadata": {},
   "source": [
    "### Filtering"
   ]
  },
  {
   "cell_type": "code",
   "execution_count": null,
   "metadata": {},
   "outputs": [],
   "source": [
    "df.loc[:, df.all()]           # 所有非0值\n",
    "df.loc[:, df.any()]           # 0值行\n",
    "df.loc[:, df.isnull().any()]  # 任何 na 行\n",
    "df.loc[:, df.notnull().any()] # 任何 na 行\n",
    "df.dropna(how='any')\n",
    "pass"
   ]
  },
  {
   "cell_type": "markdown",
   "metadata": {},
   "source": [
    "### Manipulating"
   ]
  },
  {
   "cell_type": "code",
   "execution_count": null,
   "metadata": {},
   "outputs": [],
   "source": [
    "df.eggs[df.salt > 55] += 5   # 加\n",
    "df.floordiv(12)              # 类似 dataframe // other，支持fill_value\n",
    "pass"
   ]
  },
  {
   "cell_type": "markdown",
   "metadata": {},
   "source": [
    "### About DataFrame Index"
   ]
  },
  {
   "cell_type": "code",
   "execution_count": null,
   "metadata": {},
   "outputs": [],
   "source": [
    "# 创建 Series\n",
    "prices = [3, 2, 1.5, 4, 4.5]\n",
    "shares = pd.Series(prices)\n",
    "\n",
    "# 创建Series，从数组指定索引值\n",
    "days = ['Mon', 'Tue', 'Wed', 'Thur', 'Fri']\n",
    "shares = pd.Series(prices, index=days)"
   ]
  },
  {
   "cell_type": "code",
   "execution_count": null,
   "metadata": {},
   "outputs": [],
   "source": [
    "# 可使用下标访问索引值，也可以切片\n",
    "shares.index[0]\n",
    "\n",
    "# 给索引起名\n",
    "shares.name = \"Share\"\n",
    "\n",
    "# 给索引赋值会出错"
   ]
  },
  {
   "cell_type": "code",
   "execution_count": null,
   "metadata": {},
   "outputs": [],
   "source": [
    "# 多重索引访问索引名\n",
    "# df.index.name  -> None\n",
    "# df.index.names -> ['a', 'b']\n",
    "\n",
    "# 值可以按索引排序\n",
    "df.sort_index()\n",
    "\n",
    "# 多重索引选择，使用元组\n",
    "df.loc[('idx1','idx2'), 'col_name']\n",
    "\n",
    "# 只选择单个索引，会返回该索引内部得值（包括子索引）\n",
    "df.loc['idx1']\n",
    "\n",
    "# 使用 slice 函数，对第一层不设条件，返回第二层 ab 结果\n",
    "df.loc[slice(None), slice('a','b')]"
   ]
  },
  {
   "cell_type": "markdown",
   "metadata": {},
   "source": [
    "# Pivot"
   ]
  },
  {
   "cell_type": "markdown",
   "metadata": {},
   "source": [
    "- Pivot 根据列值 Reshape 数据，有重复值会出错\n",
    "- PivotTable 根据列值 Reshape 数据，有重复值可指定 aggregate 函数(sum, count, etc.)"
   ]
  }
 ],
 "metadata": {
  "interpreter": {
   "hash": "63c507700e54c2628652ffbdabcd7e94be88940c185c40088727646e02fde70b"
  },
  "kernelspec": {
   "display_name": "Python 3.8.12 64-bit ('dev': conda)",
   "language": "python",
   "name": "python3"
  },
  "language_info": {
   "codemirror_mode": {
    "name": "ipython",
    "version": 3
   },
   "file_extension": ".py",
   "mimetype": "text/x-python",
   "name": "python",
   "nbconvert_exporter": "python",
   "pygments_lexer": "ipython3",
   "version": "3.8.12"
  },
  "orig_nbformat": 4
 },
 "nbformat": 4,
 "nbformat_minor": 2
}
